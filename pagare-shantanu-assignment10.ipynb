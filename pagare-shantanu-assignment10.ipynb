{
 "cells": [
  {
   "cell_type": "markdown",
   "id": "d430a89c",
   "metadata": {},
   "source": [
    "## IS 445 Assignment 10:\n",
    "\n",
    "#### Group Members: Shantanu Pagare (spagare2@illinois.edu) and Prajali Shah (pmshah5@illinois.edu)"
   ]
  },
  {
   "cell_type": "code",
   "execution_count": 1,
   "id": "07ef5934",
   "metadata": {},
   "outputs": [],
   "source": [
    "import pandas as pd\n",
    "import altair as alt"
   ]
  },
  {
   "cell_type": "markdown",
   "id": "e6c272a2",
   "metadata": {},
   "source": [
    "## Visualization 1: Heat Map\n",
    "\n",
    "### Number of Sightings Binned by High Temparatures per State\n",
    "\n",
    "### I displayed a heatmap to compare and see what insights can be gained when the temperature is high in the given states and what happens when the frequency is high and low respectively. \n",
    "\n",
    "### Again the highest frequency of sighting and more information was in the state of Washington but surprisingly the average frequency states were California and Ohio in the 200 range and the lowest were in states like Nevada and North Dakota. If I had more time I would have tried to do explore different binning options, more color schemes and most importantly I would have tried it for different Counties but there we so many counties that it was a bit had to display the information correctly on the X-Axis, maybe I would have tried to flip the axis in a vertical manner. \n",
    "\n",
    "### The visualization highlights the feature that the higher the temperature the more incidents might have happened which kind of shows a correlation between the high_temp and states columns around the year. If I had more time I would have tried to add a count of frequency too in the visualization above.\n",
    "\n",
    "### Especially here I used the altair syntax where I kept all the displaying code inside the Chart.dictionary() function/method. I also used .add-selection() function with a brush so that I am able to select the given heatmaps and those selected bars will also change later in the interactive visualization."
   ]
  },
  {
   "cell_type": "code",
   "execution_count": 2,
   "id": "2e9fc21a",
   "metadata": {},
   "outputs": [],
   "source": [
    "my_jekyll_dir = 'C://Users//shant//Downloads//UIUC MSIM//Sem_4//Data_Viz//Github_proj//Shantanu97brr.github.io//assets//json//'"
   ]
  },
  {
   "cell_type": "code",
   "execution_count": 3,
   "id": "7cee9340",
   "metadata": {},
   "outputs": [],
   "source": [
    "brush = alt.selection_interval(encodings=['x','y'])"
   ]
  },
  {
   "cell_type": "code",
   "execution_count": 35,
   "id": "42021b8f",
   "metadata": {},
   "outputs": [],
   "source": [
    "var_state_heatmaps = alt.Chart.from_dict({\n",
    "  \"data\":{\"url\":\"https://raw.githubusercontent.com/UIUC-iSchool-DataViz/is445_bcubcg_fall2022/main/data/bfro_reports_fall2022.csv\"},\n",
    "  \"mark\":\"rect\", \n",
    "  \"height\":300,\n",
    "  \"width\":750,\n",
    "  \"encoding\":{\n",
    "    \"x\":{\"field\":\"state\", \"type\":\"ordinal\"},\n",
    "    \"y\":{\"bin\":{\"maxbins\":5}, \"field\":\"temperature_high\", \"type\":\"quantitative\"},\n",
    "    \"color\":{\"aggregate\":\"count\", \"type\":\"quantitative\", \"title\":\"Frequency\"}\n",
    "  } # end of encoding\n",
    "}\n",
    ").add_selection(\n",
    "    brush\n",
    ")"
   ]
  },
  {
   "cell_type": "code",
   "execution_count": 36,
   "id": "77ef8940",
   "metadata": {},
   "outputs": [
    {
     "data": {
      "text/html": [
       "\n",
       "<div id=\"altair-viz-47080f3ca9de408a83ecf18fb99d9d68\"></div>\n",
       "<script type=\"text/javascript\">\n",
       "  var VEGA_DEBUG = (typeof VEGA_DEBUG == \"undefined\") ? {} : VEGA_DEBUG;\n",
       "  (function(spec, embedOpt){\n",
       "    let outputDiv = document.currentScript.previousElementSibling;\n",
       "    if (outputDiv.id !== \"altair-viz-47080f3ca9de408a83ecf18fb99d9d68\") {\n",
       "      outputDiv = document.getElementById(\"altair-viz-47080f3ca9de408a83ecf18fb99d9d68\");\n",
       "    }\n",
       "    const paths = {\n",
       "      \"vega\": \"https://cdn.jsdelivr.net/npm//vega@5?noext\",\n",
       "      \"vega-lib\": \"https://cdn.jsdelivr.net/npm//vega-lib?noext\",\n",
       "      \"vega-lite\": \"https://cdn.jsdelivr.net/npm//vega-lite@4.17.0?noext\",\n",
       "      \"vega-embed\": \"https://cdn.jsdelivr.net/npm//vega-embed@6?noext\",\n",
       "    };\n",
       "\n",
       "    function maybeLoadScript(lib, version) {\n",
       "      var key = `${lib.replace(\"-\", \"\")}_version`;\n",
       "      return (VEGA_DEBUG[key] == version) ?\n",
       "        Promise.resolve(paths[lib]) :\n",
       "        new Promise(function(resolve, reject) {\n",
       "          var s = document.createElement('script');\n",
       "          document.getElementsByTagName(\"head\")[0].appendChild(s);\n",
       "          s.async = true;\n",
       "          s.onload = () => {\n",
       "            VEGA_DEBUG[key] = version;\n",
       "            return resolve(paths[lib]);\n",
       "          };\n",
       "          s.onerror = () => reject(`Error loading script: ${paths[lib]}`);\n",
       "          s.src = paths[lib];\n",
       "        });\n",
       "    }\n",
       "\n",
       "    function showError(err) {\n",
       "      outputDiv.innerHTML = `<div class=\"error\" style=\"color:red;\">${err}</div>`;\n",
       "      throw err;\n",
       "    }\n",
       "\n",
       "    function displayChart(vegaEmbed) {\n",
       "      vegaEmbed(outputDiv, spec, embedOpt)\n",
       "        .catch(err => showError(`Javascript Error: ${err.message}<br>This usually means there's a typo in your chart specification. See the javascript console for the full traceback.`));\n",
       "    }\n",
       "\n",
       "    if(typeof define === \"function\" && define.amd) {\n",
       "      requirejs.config({paths});\n",
       "      require([\"vega-embed\"], displayChart, err => showError(`Error loading script: ${err.message}`));\n",
       "    } else {\n",
       "      maybeLoadScript(\"vega\", \"5\")\n",
       "        .then(() => maybeLoadScript(\"vega-lite\", \"4.17.0\"))\n",
       "        .then(() => maybeLoadScript(\"vega-embed\", \"6\"))\n",
       "        .catch(showError)\n",
       "        .then(() => displayChart(vegaEmbed));\n",
       "    }\n",
       "  })({\"config\": {\"view\": {\"continuousWidth\": 400, \"continuousHeight\": 300}}, \"data\": {\"url\": \"https://raw.githubusercontent.com/UIUC-iSchool-DataViz/is445_bcubcg_fall2022/main/data/bfro_reports_fall2022.csv\"}, \"mark\": \"rect\", \"encoding\": {\"color\": {\"aggregate\": \"count\", \"title\": \"Frequency\", \"type\": \"quantitative\"}, \"x\": {\"field\": \"state\", \"type\": \"ordinal\"}, \"y\": {\"bin\": {\"maxbins\": 5}, \"field\": \"temperature_high\", \"type\": \"quantitative\"}}, \"height\": 300, \"selection\": {\"selector001\": {\"type\": \"interval\", \"encodings\": [\"x\", \"y\"]}}, \"width\": 750, \"$schema\": \"https://vega.github.io/schema/vega-lite/v4.17.0.json\"}, {\"mode\": \"vega-lite\"});\n",
       "</script>"
      ],
      "text/plain": [
       "alt.Chart(...)"
      ]
     },
     "execution_count": 36,
     "metadata": {},
     "output_type": "execute_result"
    }
   ],
   "source": [
    "var_state_heatmaps"
   ]
  },
  {
   "cell_type": "code",
   "execution_count": 37,
   "id": "0302c96f",
   "metadata": {},
   "outputs": [],
   "source": [
    "var_state_heatmaps.save(my_jekyll_dir + 'state_heat_map.json')"
   ]
  },
  {
   "cell_type": "markdown",
   "id": "7bb68cf2",
   "metadata": {},
   "source": [
    "---"
   ]
  },
  {
   "cell_type": "markdown",
   "id": "8688d8ce",
   "metadata": {},
   "source": [
    "## Visualization 2: Bar Chart \n",
    "\n",
    "### Frequency of Sightings per State\n",
    "\n",
    "### The plot below includes a histogram plot of the Bigfoot sightings/other cyrptic incidents that happened during the course of year, I have used features/columns that I have used for my analysis county, state, high temperatures and what is caused by all the features in the country of USA. I used the height and width by using the javascript coding and set it to 500 as it displayed the plots accurately and in as way that they can be understood easily. \n",
    "\n",
    "### The Frequency is used on the Y-Axis to see how many times the sighting/incidents happened, the scale goes from 0 - 600, and the X-axis has all the state information on them. The highest one is of Washington state and the states like Nevada, Delaware, and North Dakota. \n",
    "\n",
    "### If I had more time I would have seen if these bar charts show some statistical ability like if they are left skewed or right skewed and what more information can be understood as we glance or observe onto the bar/histogram chart. I could have also dwelled in the number of bins and changed it to see what analysis can be done and I would have also tried to play with the color schemes a bit too.\n",
    "\n",
    "### Some other/different altair syntax where I kept all the displaying code inside the Chart.dictionary() function/method. This slight change in the code helped me to display my visualization in a manner of vega-lite, altair, javascript, and deployment on Github."
   ]
  },
  {
   "cell_type": "code",
   "execution_count": 38,
   "id": "70df19b5",
   "metadata": {},
   "outputs": [],
   "source": [
    "var_state_barchart = alt.Chart.from_dict({\n",
    "  \"data\":{\"url\":\"https://raw.githubusercontent.com/UIUC-iSchool-DataViz/is445_bcubcg_fall2022/main/data/bfro_reports_fall2022.csv\"},\n",
    "  \"mark\":\"bar\",\n",
    "  \"height\":500,\n",
    "  \"width\":750,\n",
    "  \"encoding\":{\n",
    "    \"x\":{\"field\":\"state\", \"type\":\"ordinal\", \"title\":\"States\"},\n",
    "    \"y\":{\"aggregate\":\"count\",\"type\":\"quantitative\",\"axis\":{\"title\":\"Frequency\"}}\n",
    "  } # end encoding\n",
    "})"
   ]
  },
  {
   "cell_type": "code",
   "execution_count": 39,
   "id": "a0155516",
   "metadata": {},
   "outputs": [
    {
     "data": {
      "text/html": [
       "\n",
       "<div id=\"altair-viz-20428ee03b284b0c991ddcce1ee644d2\"></div>\n",
       "<script type=\"text/javascript\">\n",
       "  var VEGA_DEBUG = (typeof VEGA_DEBUG == \"undefined\") ? {} : VEGA_DEBUG;\n",
       "  (function(spec, embedOpt){\n",
       "    let outputDiv = document.currentScript.previousElementSibling;\n",
       "    if (outputDiv.id !== \"altair-viz-20428ee03b284b0c991ddcce1ee644d2\") {\n",
       "      outputDiv = document.getElementById(\"altair-viz-20428ee03b284b0c991ddcce1ee644d2\");\n",
       "    }\n",
       "    const paths = {\n",
       "      \"vega\": \"https://cdn.jsdelivr.net/npm//vega@5?noext\",\n",
       "      \"vega-lib\": \"https://cdn.jsdelivr.net/npm//vega-lib?noext\",\n",
       "      \"vega-lite\": \"https://cdn.jsdelivr.net/npm//vega-lite@4.17.0?noext\",\n",
       "      \"vega-embed\": \"https://cdn.jsdelivr.net/npm//vega-embed@6?noext\",\n",
       "    };\n",
       "\n",
       "    function maybeLoadScript(lib, version) {\n",
       "      var key = `${lib.replace(\"-\", \"\")}_version`;\n",
       "      return (VEGA_DEBUG[key] == version) ?\n",
       "        Promise.resolve(paths[lib]) :\n",
       "        new Promise(function(resolve, reject) {\n",
       "          var s = document.createElement('script');\n",
       "          document.getElementsByTagName(\"head\")[0].appendChild(s);\n",
       "          s.async = true;\n",
       "          s.onload = () => {\n",
       "            VEGA_DEBUG[key] = version;\n",
       "            return resolve(paths[lib]);\n",
       "          };\n",
       "          s.onerror = () => reject(`Error loading script: ${paths[lib]}`);\n",
       "          s.src = paths[lib];\n",
       "        });\n",
       "    }\n",
       "\n",
       "    function showError(err) {\n",
       "      outputDiv.innerHTML = `<div class=\"error\" style=\"color:red;\">${err}</div>`;\n",
       "      throw err;\n",
       "    }\n",
       "\n",
       "    function displayChart(vegaEmbed) {\n",
       "      vegaEmbed(outputDiv, spec, embedOpt)\n",
       "        .catch(err => showError(`Javascript Error: ${err.message}<br>This usually means there's a typo in your chart specification. See the javascript console for the full traceback.`));\n",
       "    }\n",
       "\n",
       "    if(typeof define === \"function\" && define.amd) {\n",
       "      requirejs.config({paths});\n",
       "      require([\"vega-embed\"], displayChart, err => showError(`Error loading script: ${err.message}`));\n",
       "    } else {\n",
       "      maybeLoadScript(\"vega\", \"5\")\n",
       "        .then(() => maybeLoadScript(\"vega-lite\", \"4.17.0\"))\n",
       "        .then(() => maybeLoadScript(\"vega-embed\", \"6\"))\n",
       "        .catch(showError)\n",
       "        .then(() => displayChart(vegaEmbed));\n",
       "    }\n",
       "  })({\"config\": {\"view\": {\"continuousWidth\": 400, \"continuousHeight\": 300}}, \"data\": {\"url\": \"https://raw.githubusercontent.com/UIUC-iSchool-DataViz/is445_bcubcg_fall2022/main/data/bfro_reports_fall2022.csv\"}, \"mark\": \"bar\", \"encoding\": {\"x\": {\"field\": \"state\", \"title\": \"States\", \"type\": \"ordinal\"}, \"y\": {\"aggregate\": \"count\", \"axis\": {\"title\": \"Frequency\"}, \"type\": \"quantitative\"}}, \"height\": 500, \"width\": 750, \"$schema\": \"https://vega.github.io/schema/vega-lite/v4.17.0.json\"}, {\"mode\": \"vega-lite\"});\n",
       "</script>"
      ],
      "text/plain": [
       "alt.Chart(...)"
      ]
     },
     "execution_count": 39,
     "metadata": {},
     "output_type": "execute_result"
    }
   ],
   "source": [
    "var_state_barchart"
   ]
  },
  {
   "cell_type": "code",
   "execution_count": 40,
   "id": "f770bec3",
   "metadata": {},
   "outputs": [],
   "source": [
    "var_state_barchart.save(my_jekyll_dir +'state_hist.json')"
   ]
  },
  {
   "cell_type": "markdown",
   "id": "a1151dff",
   "metadata": {},
   "source": [
    "## Dashboarding and Interactivity: \n",
    "\n",
    "### For interactive dashboard purposes also I again used the altair syntax where I kept all the displaying code inside the Chart.dictionary() function/method and this time I used another function called '.transform_filter() with a brush to maintain/display the visualization side by side. Other stuff like height and width were used accordingly to keep the visalization accurately visible."
   ]
  },
  {
   "cell_type": "code",
   "execution_count": 53,
   "id": "6e18232b",
   "metadata": {},
   "outputs": [],
   "source": [
    "var_state_barchart_interactivity = alt.Chart.from_dict({\n",
    "  \"data\":{\"url\":\"https://raw.githubusercontent.com/UIUC-iSchool-DataViz/is445_bcubcg_fall2022/main/data/bfro_reports_fall2022.csv\"},\n",
    "  \"mark\":\"bar\",\n",
    "  \"height\":300,\n",
    "  \"width\":330,\n",
    "  \"encoding\":{\n",
    "    \"x\":{\"field\":\"state\", \"type\":\"ordinal\", \"title\":\"States\"},\n",
    "    \"y\":{\"aggregate\":\"count\",\"type\":\"quantitative\",\"axis\":{\"title\":\"Frequency\"}}\n",
    "  } # end encoding\n",
    "}\n",
    ").transform_filter(\n",
    "    brush\n",
    ")"
   ]
  },
  {
   "cell_type": "code",
   "execution_count": 54,
   "id": "ae427f7f",
   "metadata": {},
   "outputs": [],
   "source": [
    "dashboarding = var_state_heatmaps | var_state_barchart_interactivity"
   ]
  },
  {
   "cell_type": "code",
   "execution_count": 55,
   "id": "ea3510d8",
   "metadata": {},
   "outputs": [
    {
     "data": {
      "text/html": [
       "\n",
       "<div id=\"altair-viz-18a15fa4d03e49279d534ec32c0694d7\"></div>\n",
       "<script type=\"text/javascript\">\n",
       "  var VEGA_DEBUG = (typeof VEGA_DEBUG == \"undefined\") ? {} : VEGA_DEBUG;\n",
       "  (function(spec, embedOpt){\n",
       "    let outputDiv = document.currentScript.previousElementSibling;\n",
       "    if (outputDiv.id !== \"altair-viz-18a15fa4d03e49279d534ec32c0694d7\") {\n",
       "      outputDiv = document.getElementById(\"altair-viz-18a15fa4d03e49279d534ec32c0694d7\");\n",
       "    }\n",
       "    const paths = {\n",
       "      \"vega\": \"https://cdn.jsdelivr.net/npm//vega@5?noext\",\n",
       "      \"vega-lib\": \"https://cdn.jsdelivr.net/npm//vega-lib?noext\",\n",
       "      \"vega-lite\": \"https://cdn.jsdelivr.net/npm//vega-lite@4.17.0?noext\",\n",
       "      \"vega-embed\": \"https://cdn.jsdelivr.net/npm//vega-embed@6?noext\",\n",
       "    };\n",
       "\n",
       "    function maybeLoadScript(lib, version) {\n",
       "      var key = `${lib.replace(\"-\", \"\")}_version`;\n",
       "      return (VEGA_DEBUG[key] == version) ?\n",
       "        Promise.resolve(paths[lib]) :\n",
       "        new Promise(function(resolve, reject) {\n",
       "          var s = document.createElement('script');\n",
       "          document.getElementsByTagName(\"head\")[0].appendChild(s);\n",
       "          s.async = true;\n",
       "          s.onload = () => {\n",
       "            VEGA_DEBUG[key] = version;\n",
       "            return resolve(paths[lib]);\n",
       "          };\n",
       "          s.onerror = () => reject(`Error loading script: ${paths[lib]}`);\n",
       "          s.src = paths[lib];\n",
       "        });\n",
       "    }\n",
       "\n",
       "    function showError(err) {\n",
       "      outputDiv.innerHTML = `<div class=\"error\" style=\"color:red;\">${err}</div>`;\n",
       "      throw err;\n",
       "    }\n",
       "\n",
       "    function displayChart(vegaEmbed) {\n",
       "      vegaEmbed(outputDiv, spec, embedOpt)\n",
       "        .catch(err => showError(`Javascript Error: ${err.message}<br>This usually means there's a typo in your chart specification. See the javascript console for the full traceback.`));\n",
       "    }\n",
       "\n",
       "    if(typeof define === \"function\" && define.amd) {\n",
       "      requirejs.config({paths});\n",
       "      require([\"vega-embed\"], displayChart, err => showError(`Error loading script: ${err.message}`));\n",
       "    } else {\n",
       "      maybeLoadScript(\"vega\", \"5\")\n",
       "        .then(() => maybeLoadScript(\"vega-lite\", \"4.17.0\"))\n",
       "        .then(() => maybeLoadScript(\"vega-embed\", \"6\"))\n",
       "        .catch(showError)\n",
       "        .then(() => displayChart(vegaEmbed));\n",
       "    }\n",
       "  })({\"config\": {\"view\": {\"continuousWidth\": 400, \"continuousHeight\": 300}}, \"hconcat\": [{\"data\": {\"url\": \"https://raw.githubusercontent.com/UIUC-iSchool-DataViz/is445_bcubcg_fall2022/main/data/bfro_reports_fall2022.csv\"}, \"mark\": \"rect\", \"encoding\": {\"color\": {\"aggregate\": \"count\", \"title\": \"Frequency\", \"type\": \"quantitative\"}, \"x\": {\"field\": \"state\", \"type\": \"ordinal\"}, \"y\": {\"bin\": {\"maxbins\": 5}, \"field\": \"temperature_high\", \"type\": \"quantitative\"}}, \"height\": 300, \"selection\": {\"selector001\": {\"type\": \"interval\", \"encodings\": [\"x\", \"y\"]}}, \"width\": 750}, {\"data\": {\"url\": \"https://raw.githubusercontent.com/UIUC-iSchool-DataViz/is445_bcubcg_fall2022/main/data/bfro_reports_fall2022.csv\"}, \"mark\": \"bar\", \"encoding\": {\"x\": {\"field\": \"state\", \"title\": \"States\", \"type\": \"ordinal\"}, \"y\": {\"aggregate\": \"count\", \"axis\": {\"title\": \"Frequency\"}, \"type\": \"quantitative\"}}, \"height\": 300, \"transform\": [{\"filter\": {\"selection\": \"selector001\"}}], \"width\": 330}], \"$schema\": \"https://vega.github.io/schema/vega-lite/v4.17.0.json\"}, {\"mode\": \"vega-lite\"});\n",
       "</script>"
      ],
      "text/plain": [
       "alt.HConcatChart(...)"
      ]
     },
     "execution_count": 55,
     "metadata": {},
     "output_type": "execute_result"
    }
   ],
   "source": [
    "dashboarding"
   ]
  },
  {
   "cell_type": "code",
   "execution_count": 56,
   "id": "93fcaa8a",
   "metadata": {},
   "outputs": [],
   "source": [
    "dashboarding.save(my_jekyll_dir + 'dashboarding.json')"
   ]
  },
  {
   "cell_type": "code",
   "execution_count": null,
   "id": "b100c728",
   "metadata": {},
   "outputs": [],
   "source": []
  }
 ],
 "metadata": {
  "kernelspec": {
   "display_name": "Python 3 (ipykernel)",
   "language": "python",
   "name": "python3"
  },
  "language_info": {
   "codemirror_mode": {
    "name": "ipython",
    "version": 3
   },
   "file_extension": ".py",
   "mimetype": "text/x-python",
   "name": "python",
   "nbconvert_exporter": "python",
   "pygments_lexer": "ipython3",
   "version": "3.7.12"
  }
 },
 "nbformat": 4,
 "nbformat_minor": 5
}
